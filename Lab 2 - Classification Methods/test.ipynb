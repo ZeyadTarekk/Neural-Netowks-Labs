{
 "cells": [
  {
   "cell_type": "code",
   "execution_count": 27,
   "metadata": {},
   "outputs": [
    {
     "name": "stdout",
     "output_type": "stream",
     "text": [
      "[3.  1.5]\n",
      "{1: 0, 2: 0, 3: 0}\n",
      "1\n",
      "range(1, 4)\n",
      "1\n"
     ]
    }
   ],
   "source": [
    "\n",
    "import numpy as np\n",
    "arr = [[1, 2], [3, 4],[4, 5], [4, -5]]\n",
    "mean = np.mean(arr, axis =0)\n",
    "print(mean)\n",
    "\n",
    "classes = {1:0, 2:0, 3:0}\n",
    "print(classes)\n",
    "\n",
    "classes[1]+=1\n",
    "arr2 = list(dict(sorted(classes.items(), key=lambda item: item[1])).values())\n",
    "print(arr2[2])\n",
    "print(range(1,3+1))\n",
    "for i in range(1,2):\n",
    "  print(i)"
   ]
  }
 ],
 "metadata": {
  "kernelspec": {
   "display_name": "Python 3",
   "language": "python",
   "name": "python3"
  },
  "language_info": {
   "codemirror_mode": {
    "name": "ipython",
    "version": 3
   },
   "file_extension": ".py",
   "mimetype": "text/x-python",
   "name": "python",
   "nbconvert_exporter": "python",
   "pygments_lexer": "ipython3",
   "version": "3.10.2"
  },
  "orig_nbformat": 4
 },
 "nbformat": 4,
 "nbformat_minor": 2
}
