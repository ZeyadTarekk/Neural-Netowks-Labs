{
 "cells": [
  {
   "attachments": {},
   "cell_type": "markdown",
   "metadata": {},
   "source": [
    "# Lab 6 - Classifiers Boosting Algorithms\n",
    "\n",
    "In this lab, we will implement the AdaBoost algorithm as an ensemble learning technique which\n",
    "aims to combine a number of weak classifiers to yield a strong classifier at the end.\n",
    "The idea of this lab is to identify whether a tumor with given characteristics is malignant or\n",
    "benign. This is a two-class classification problem.\n",
    "\n",
    "## Dataset and Features\n",
    "\n",
    "You will be working on the dataset from *Hastie et al,* for breast tumor classification with 10 features representing the tumor's:\n",
    "\n",
    "                              1. Area            6. Texture\n",
    "                              2. Perimeter       7. Symmetry\n",
    "                              3. Radius          8. Greyscale Level\n",
    "                              4. Compactness     9. Fractal Dimension\n",
    "                              5. Concavity      10. Coastline Approximation.\n",
    "There is one output variable which is diagnosis. It takes one of two values `+1` for malignant and `-1` for benign."
   ]
  },
  {
   "cell_type": "markdown",
   "metadata": {},
   "source": [
    "### Question 1:\n",
    "Why it is sometimes better to have the two class values `+1` and `-1` instead of `+1`\n",
    "and `0`?\\\n",
    "**HINT :** Think about the voting scheme at the end of the boosting algorithm. How can the class values\n",
    "affect this scheme?"
   ]
  },
  {
   "cell_type": "code",
   "execution_count": 1,
   "metadata": {},
   "outputs": [
    {
     "data": {
      "text/plain": [
       "\"\\n    Your answer: Consider the case that we have only 2 weak classifiers. If classifier 1 voted with 1 and the \\n    second classifier voted with 0 ==> the total score is 1 which is not accurate but if the second classifier\\n    voted with -1 the final score will be 0 which more accurate as it say that 50% it's a malignant and 50% benign.\\n\\n    +1 and -1 are more representative in case of equality in votes.\\n\""
      ]
     },
     "execution_count": 1,
     "metadata": {},
     "output_type": "execute_result"
    }
   ],
   "source": [
    "'''\n",
    "    Your answer: Consider the case that we have only 2 weak classifiers. If classifier 1 voted with 1 and the \n",
    "    second classifier voted with 0 ==> the total score is 1 which is not accurate but if the second classifier\n",
    "    voted with -1 the final score will be 0 which more accurate as it say that 50% it's a malignant and 50% benign.\n",
    "\n",
    "    +1 and -1 are more representative in case of equality in votes.\n",
    "'''"
   ]
  },
  {
   "cell_type": "markdown",
   "metadata": {},
   "source": [
    "## Requirement\n",
    "You are required to fill the function `adaboost_classifier(Y_train, X_train, Y_test, X_test, T, clf).`\\\n",
    "This function takes as parameters:\n",
    "\n",
    "| | |\n",
    "|:---|:-|\n",
    "| **Y_train**| The target values for the training set |\n",
    "| **X_train**| The input features for the training set.|\n",
    "| **Y_test**| The target values for the test set.|\n",
    "| **Y_train**| The input features for the training set.|\n",
    "| **T**| The number of iterations of the AdaBoost Algorithm.|\n",
    "| **clf**| The classifier to be used. (In our case, we are using a decision tree stump as a base classifier). You can use any other classifier.|\n",
    "\n",
    "This function should return two values:\n",
    "- The accuracy of the model on the training set.\n",
    "- The accuracy of the model on the test set.\n",
    "\n",
    "\n",
    "#### Fair Note:\n",
    "In the explanation video, we assumed that (T) is the number of models you want to fit. However, this is not always the case. You may have a model base (like here we have decision trees) and you are allowed to use as many of it as you can. So (T) here becomes the number of iterations where your goal is to enhance the performance with as few iterations as possible. \n",
    "\n",
    "Do not get confused:\n",
    "- If your case is you have T models only, we set T = number of models to fit.\n",
    "- If you are allowed to use as many models as you can (as many decision trees as you need), then T is the number of iterations to choose. In such case, T becomes a parameter controlled by the programmer."
   ]
  },
  {
   "cell_type": "code",
   "execution_count": 31,
   "metadata": {},
   "outputs": [],
   "source": [
    "## imports ##\n",
    "import pandas as pd\n",
    "import numpy as np\n",
    "from sklearn.tree import DecisionTreeClassifier\n",
    "from sklearn.model_selection import train_test_split\n",
    "from sklearn.datasets import make_hastie_10_2\n",
    "\n",
    "import utils"
   ]
  },
  {
   "cell_type": "markdown",
   "metadata": {},
   "source": [
    "**NOTE** we prepared some utility functions to help you throughout the lab. please go and check the file *utils.py* and make sure you understand each function and know how to use it.\n",
    "\n",
    "### TODO: AdaBoost Implementation\n",
    "\n",
    "AdaBoost is an iterative algorithm that gives weights for the best classifier every iteration, updates weights of the data points, then repeats until convergence.\n",
    "\n",
    "The steps of the algorithm are:\n",
    "\n",
    "1. Initialize weights of the training examples:\n",
    "\n",
    "$$w_{m} = \\frac {1}{M}, m = 1,2,...M$$\n",
    "\n",
    "                                        M: number of training examples. \n",
    "\n",
    "2. For t=1 to $T$:\n",
    "\n",
    "    a) Select a classifier $h_{t}$ that best fits to the training data using weights $w_{m}$ of the training examples.\n",
    "\n",
    "    b) Compute error of $h_{t}$ as:\n",
    "$$err_{t} = \\frac {\\Sigma_{m=1}^{M} w_{m} \\phi (c_{m} \\neq h_{t}(x_{m}))}{\\Sigma_{m=1}^{M} w_{m}}$$\n",
    "\n",
    "    c) Compute weight of classifier:\n",
    "$$\\alpha_{t} = \\log (\\frac {1-err_{t}}{err_{t}} )$$\n",
    "\n",
    "    d) Update weights of wrongly classified examples:\n",
    "$$w_{m} = w_{m} * \\exp^{\\alpha_{t} \\phi (c_{m} \\neq h_{t}(x_{m}))}, \\space m = 1 ... M$$\n",
    "\n",
    "    e) Renormalize weights $w_{m}$\n",
    "\n",
    "\n",
    "\\\n",
    "3. Output: $C(x)= argmax_{k}\\space (\\space \\Sigma_{t=1}^{T} \\alpha_{t} * \\phi (h_{t}(x) = k)) \\space)$\n",
    "\n",
    "**Where** in step 2.B and 2.D, the $\\phi (y)$ function is called the *miss indicator* function that gives values:\n",
    "\n",
    "                                     1: if y is True\n",
    "                                     0: if y is False"
   ]
  },
  {
   "cell_type": "code",
   "execution_count": 32,
   "metadata": {},
   "outputs": [],
   "source": [
    "def adaboost_classifier(Y_train, X_train, Y_test, X_test, T, clf):\n",
    "\n",
    "    # TODO: FILL THE FUNCTION with the implementation as the steps above\n",
    "\n",
    "    train_data_length = len(X_train)\n",
    "    test_data_length = len(X_test)\n",
    "    # TODO [1]: Initialize weights\n",
    "    w = np.ones(train_data_length) / train_data_length\n",
    "\n",
    "    # TODO [2]:  Initialize the training and test data with empty array placeholders\n",
    "    # Hint: what should be their shape?\n",
    "    # predicted classes of the training examples\n",
    "    pred_train = np.zeros(train_data_length)\n",
    "    # predicted classes of the test examples\n",
    "    pred_test = np.zeros(test_data_length)\n",
    "\n",
    "    # TODO [3]: loop over the boosting iterations\n",
    "    for i in range(T):\n",
    "\n",
    "        # TODO [4]: Fit a classifier with the specific weights\n",
    "        # TODO [4.A]: fit the classifier on the training data\n",
    "        # Hint: search how sklearn.tree.DecisionTreeClassifier fits classifier on data\n",
    "        # Hint: search for parameter weights in the fit matrix\n",
    "        clf.fit(X_train, Y_train, w)\n",
    "\n",
    "        # TODO [4.B]: predict classes for the training data and test data\n",
    "        pred_train_i = clf.predict(X_train)\n",
    "        pred_test_i = clf.predict(X_test)\n",
    "\n",
    "        # TODO [5]: calculate the miss Indicator function\n",
    "        miss_indicator_01 = [int(x) for x in (pred_train_i != Y_train)]\n",
    "        miss_indicator_11 = [x if x == 1 else -1 for x in miss_indicator_01]\n",
    "\n",
    "        # TODO [6]: calculate the error for the current classifier (err_t)\n",
    "        err_t = np.dot(w, miss_indicator_01) / sum(w)\n",
    "\n",
    "        # TODO [7]: calculate current classifier weight (Alpha_t)\n",
    "        alpha_t = 0.5 * np.log((1 - err_t) / float(err_t))\n",
    "\n",
    "        # TODO [8]: update the weights\n",
    "        w = np.multiply(\n",
    "            w, np.exp([float(x) * alpha_t for x in miss_indicator_11]))\n",
    "        # TODO [9] Add to the overall predictions\n",
    "        pred_train = [sum(x) for x in zip(\n",
    "            pred_train, [x * alpha_t for x in pred_train_i])]\n",
    "        pred_test = [sum(x) for x in zip(\n",
    "            pred_test, [x * alpha_t for x in pred_test_i])]\n",
    "\n",
    "    pred_train, pred_test = np.sign(pred_train), np.sign(pred_test)\n",
    "    # TODO [10]: Return error rate in train and test set\n",
    "    # Hint: use function get_accuracy from utils.py\n",
    "    train_accuracy = utils.get_accuracy(pred_train, Y_train)\n",
    "    test_accuracy = utils.get_accuracy(pred_test, Y_test)\n",
    "    train_error = utils.get_error_rate(pred_train, Y_train)\n",
    "    test_error = utils.get_error_rate(pred_test, Y_test)\n",
    "    return train_accuracy, test_accuracy, train_error, test_error\n"
   ]
  },
  {
   "cell_type": "markdown",
   "metadata": {},
   "source": [
    "### Testing the Boosted Classifier\n",
    "\n",
    "Now we will use the function you implemented to build a classifer.\\\n",
    "You will not change code here, only read the code below and run it to see how **AdaBoost** enhanced the performance."
   ]
  },
  {
   "cell_type": "code",
   "execution_count": 33,
   "metadata": {},
   "outputs": [
    {
     "name": "stdout",
     "output_type": "stream",
     "text": [
      "Reading Data ...\n",
      "Number of Iterations :  10\n",
      "Number of Iterations :  60\n",
      "Number of Iterations :  110\n",
      "Number of Iterations :  160\n",
      "Number of Iterations :  210\n",
      "Number of Iterations :  260\n",
      "Number of Iterations :  310\n",
      "Number of Iterations :  360\n"
     ]
    },
    {
     "name": "stderr",
     "output_type": "stream",
     "text": [
      "d:\\CUFE\\CMP Year 3\\Second Term\\Neural Networks\\Labs\\Neural-Netowks-Labs\\Lab 5 - AdaBoost Classifier\\utils.py:27: UserWarning: FixedFormatter should only be used together with FixedLocator\n",
      "  plot1.set_xticklabels(range(0, 450, 50))\n"
     ]
    },
    {
     "data": {
      "image/png": "[encoded data removed]",
      "text/plain": [
       "<Figure size 800x600 with 1 Axes>"
      ]
     },
     "metadata": {},
     "output_type": "display_data"
    }
   ],
   "source": [
    "#### DO NOT CHANGE CODE ####\n",
    "\n",
    "# First, read the dataset\n",
    "x, y = make_hastie_10_2()\n",
    "df = pd.DataFrame(x)\n",
    "df['Y'] = y\n",
    "print('Reading Data ...')\n",
    "\n",
    "# Split into training and test set\n",
    "# this function shuffles the data points, and splits the data into\n",
    "train, test = train_test_split(df, test_size=0.2)\n",
    "# 80% training set and 20% test set (indicated by test_size=0.2)\n",
    "\n",
    "\n",
    "X_train, Y_train = train.iloc[:, :-1], train.iloc[:, -1]\n",
    "X_test, Y_test = test.iloc[:, :-1], test.iloc[:, -1]\n",
    "# Fit a simple decision tree first\n",
    "clf_tree = DecisionTreeClassifier(max_depth=1, random_state=1)\n",
    "\n",
    "# Fit Adaboost classifier using a decision tree as base estimator\n",
    "# Test with different number of iterations\n",
    "acc_train, acc_test = [], []\n",
    "x_range = range(10, 410, 50)\n",
    "for i in x_range:\n",
    "    print('Number of Iterations : ', i)\n",
    "    acc_i = adaboost_classifier(Y_train, X_train, Y_test, X_test, i, clf_tree)\n",
    "    acc_train.append(acc_i[0])\n",
    "    acc_test.append(acc_i[1])\n",
    "\n",
    "# Compare error rate vs number of iterations\n",
    "utils.plot_accuracy(acc_train, acc_test)\n"
   ]
  },
  {
   "cell_type": "markdown",
   "metadata": {},
   "source": [
    "### Question 2:\n",
    "Justify why the plot is the way it is (is it increasing or decreasing? why? when does it flattens out?)"
   ]
  },
  {
   "cell_type": "code",
   "execution_count": 34,
   "metadata": {},
   "outputs": [
    {
     "data": {
      "text/plain": [
       "\"\\n    Your answer: \\n    It's increasing.\\n    The accuracy significantly increases as we increase the number of iterations.\\n    The accuracy keeps on improving with iterations because in each iteration the classifier learns from its mistakes in the previous iteration  and is then weighted depending on the new resulting loss it computes (the smaller it is the larger the weight) hence, accuracy should naturally increase with iterations (every iteration is more learning.)\\n\\n\""
      ]
     },
     "execution_count": 34,
     "metadata": {},
     "output_type": "execute_result"
    }
   ],
   "source": [
    "'''\n",
    "    Your answer: \n",
    "    It's increasing.\n",
    "    The accuracy significantly increases as we increase the number of iterations.\n",
    "    The accuracy keeps on improving with iterations because in each iteration the classifier learns from its mistakes in the previous iteration  and is then weighted depending on the new resulting loss it computes (the smaller it is the larger the weight) hence, accuracy should naturally increase with iterations (every iteration is more learning.)\n",
    "\n",
    "'''\n"
   ]
  },
  {
   "cell_type": "markdown",
   "metadata": {},
   "source": [
    "### Question 3\n",
    "\n",
    "The number of iterations (T) is what we call a hyper parameter:\n",
    "   - Its value differs from model to model and from problem to problem.\n",
    "   - Its value is not learnt by time, it is set by the programmer.\n",
    "   \n",
    "Suggest ways to select the optimal T keeping in mind that:\n",
    "   - If T is too big, the training time is large (you loop for T times, each time takes a model to fit and this model might take hours to fit)\n",
    "   - If T is too small, the boosting might not reach the best values it can get.\n",
    "   \n",
    "   \n",
    "\n",
    "**HINT**: Look at the graph of number of iterations vs performance and search for elbow method. Try to understand it and explain what it does.\\\n",
    "**HINT**: There are other hyper-parameter selection techniques, search for them as well."
   ]
  },
  {
   "cell_type": "code",
   "execution_count": 35,
   "metadata": {},
   "outputs": [
    {
     "data": {
      "text/plain": [
       "'\\n    Your answer: \\n    1. The Elbow Method: a method is used in Kmeans, PCA, AdaBoost, ...etc\\n        - To determine the optimal number of iterations, we have to select the value of T at the “elbow”\\n        ==> the point after which the distortion/inertia start decreasing in a linear fashion.\\n        Depending on the graph, the proper number of iterations T = 350 iterations\\n'"
      ]
     },
     "execution_count": 35,
     "metadata": {},
     "output_type": "execute_result"
    }
   ],
   "source": [
    "'''\n",
    "    Your answer: \n",
    "    1. The Elbow Method: a method is used in Kmeans, PCA, AdaBoost, ...etc\n",
    "        - To determine the optimal number of iterations, we have to select the value of T at the “elbow”\n",
    "        ==> the point after which the distortion/inertia start decreasing in a linear fashion.\n",
    "        Depending on the graph, the proper number of iterations T = 350 iterations\n",
    "'''"
   ]
  }
 ],
 "metadata": {
  "kernelspec": {
   "display_name": "Python 3",
   "language": "python",
   "name": "python3"
  },
  "language_info": {
   "codemirror_mode": {
    "name": "ipython",
    "version": 3
   },
   "file_extension": ".py",
   "mimetype": "text/x-python",
   "name": "python",
   "nbconvert_exporter": "python",
   "pygments_lexer": "ipython3",
   "version": "3.10.2"
  }
 },
 "nbformat": 4,
 "nbformat_minor": 4
}
